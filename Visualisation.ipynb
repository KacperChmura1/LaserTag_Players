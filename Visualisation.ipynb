{
 "cells": [
  {
   "cell_type": "code",
   "execution_count": 50,
   "id": "a84d0a1e",
   "metadata": {},
   "outputs": [],
   "source": [
    "import numpy as np\n",
    "import pandas as pd"
   ]
  },
  {
   "cell_type": "code",
   "execution_count": 94,
   "id": "80a6eec0",
   "metadata": {},
   "outputs": [],
   "source": [
    "import matplotlib.pyplot as plt"
   ]
  },
  {
   "cell_type": "code",
   "execution_count": 95,
   "id": "048457fd",
   "metadata": {},
   "outputs": [],
   "source": [
    "import seaborn as sns"
   ]
  },
  {
   "cell_type": "code",
   "execution_count": 96,
   "id": "d92c1331",
   "metadata": {},
   "outputs": [],
   "source": [
    "df = pd.read_csv(\"full_stats_with_sex.csv\", index_col=0)"
   ]
  },
  {
   "cell_type": "code",
   "execution_count": 97,
   "id": "15103476",
   "metadata": {},
   "outputs": [
    {
     "data": {
      "text/html": [
       "<div>\n",
       "<style scoped>\n",
       "    .dataframe tbody tr th:only-of-type {\n",
       "        vertical-align: middle;\n",
       "    }\n",
       "\n",
       "    .dataframe tbody tr th {\n",
       "        vertical-align: top;\n",
       "    }\n",
       "\n",
       "    .dataframe thead th {\n",
       "        text-align: right;\n",
       "    }\n",
       "</style>\n",
       "<table border=\"1\" class=\"dataframe\">\n",
       "  <thead>\n",
       "    <tr style=\"text-align: right;\">\n",
       "      <th></th>\n",
       "      <th>Weapon</th>\n",
       "      <th>Name</th>\n",
       "      <th>Rating</th>\n",
       "      <th>Accuracy(%)</th>\n",
       "      <th>Shot fired</th>\n",
       "      <th>Hits</th>\n",
       "      <th>Deaths</th>\n",
       "      <th>DMG_Get</th>\n",
       "      <th>Sex</th>\n",
       "    </tr>\n",
       "    <tr>\n",
       "      <th>0</th>\n",
       "      <th></th>\n",
       "      <th></th>\n",
       "      <th></th>\n",
       "      <th></th>\n",
       "      <th></th>\n",
       "      <th></th>\n",
       "      <th></th>\n",
       "      <th></th>\n",
       "      <th></th>\n",
       "    </tr>\n",
       "  </thead>\n",
       "  <tbody>\n",
       "    <tr>\n",
       "      <th>0</th>\n",
       "      <td>Rifle</td>\n",
       "      <td>Wojtek</td>\n",
       "      <td>70.8</td>\n",
       "      <td>20.1</td>\n",
       "      <td>3509.0</td>\n",
       "      <td>704.0</td>\n",
       "      <td>40.0</td>\n",
       "      <td>464.0</td>\n",
       "      <td>Men</td>\n",
       "    </tr>\n",
       "    <tr>\n",
       "      <th>1</th>\n",
       "      <td>Rifle</td>\n",
       "      <td>Emil</td>\n",
       "      <td>55.8</td>\n",
       "      <td>15.8</td>\n",
       "      <td>4771.0</td>\n",
       "      <td>753.0</td>\n",
       "      <td>54.0</td>\n",
       "      <td>591.0</td>\n",
       "      <td>Men</td>\n",
       "    </tr>\n",
       "    <tr>\n",
       "      <th>2</th>\n",
       "      <td>Rifle</td>\n",
       "      <td>Adrian</td>\n",
       "      <td>47.6</td>\n",
       "      <td>16.7</td>\n",
       "      <td>3526.0</td>\n",
       "      <td>589.0</td>\n",
       "      <td>59.0</td>\n",
       "      <td>549.0</td>\n",
       "      <td>Men</td>\n",
       "    </tr>\n",
       "    <tr>\n",
       "      <th>3</th>\n",
       "      <td>Rifle</td>\n",
       "      <td>Kinga</td>\n",
       "      <td>47.5</td>\n",
       "      <td>15.2</td>\n",
       "      <td>3184.0</td>\n",
       "      <td>484.0</td>\n",
       "      <td>42.0</td>\n",
       "      <td>442.0</td>\n",
       "      <td>Women</td>\n",
       "    </tr>\n",
       "    <tr>\n",
       "      <th>4</th>\n",
       "      <td>Gun</td>\n",
       "      <td>Wiktoria</td>\n",
       "      <td>24.7</td>\n",
       "      <td>10.3</td>\n",
       "      <td>3481.0</td>\n",
       "      <td>359.0</td>\n",
       "      <td>66.0</td>\n",
       "      <td>583.0</td>\n",
       "      <td>Women</td>\n",
       "    </tr>\n",
       "    <tr>\n",
       "      <th>...</th>\n",
       "      <td>...</td>\n",
       "      <td>...</td>\n",
       "      <td>...</td>\n",
       "      <td>...</td>\n",
       "      <td>...</td>\n",
       "      <td>...</td>\n",
       "      <td>...</td>\n",
       "      <td>...</td>\n",
       "      <td>...</td>\n",
       "    </tr>\n",
       "    <tr>\n",
       "      <th>1412</th>\n",
       "      <td>Rifle</td>\n",
       "      <td>Karol</td>\n",
       "      <td>38.2</td>\n",
       "      <td>15.3</td>\n",
       "      <td>1088.0</td>\n",
       "      <td>166.0</td>\n",
       "      <td>18.0</td>\n",
       "      <td>188.0</td>\n",
       "      <td>Men</td>\n",
       "    </tr>\n",
       "    <tr>\n",
       "      <th>1414</th>\n",
       "      <td>Gun</td>\n",
       "      <td>Marta</td>\n",
       "      <td>33.4</td>\n",
       "      <td>15.3</td>\n",
       "      <td>1415.0</td>\n",
       "      <td>217.0</td>\n",
       "      <td>34.0</td>\n",
       "      <td>282.0</td>\n",
       "      <td>Women</td>\n",
       "    </tr>\n",
       "    <tr>\n",
       "      <th>1415</th>\n",
       "      <td>Gun</td>\n",
       "      <td>Marcin</td>\n",
       "      <td>32.6</td>\n",
       "      <td>12.4</td>\n",
       "      <td>1377.0</td>\n",
       "      <td>171.0</td>\n",
       "      <td>21.0</td>\n",
       "      <td>217.0</td>\n",
       "      <td>Men</td>\n",
       "    </tr>\n",
       "    <tr>\n",
       "      <th>1416</th>\n",
       "      <td>Gun</td>\n",
       "      <td>Seba</td>\n",
       "      <td>25.1</td>\n",
       "      <td>7.7</td>\n",
       "      <td>1957.0</td>\n",
       "      <td>150.0</td>\n",
       "      <td>25.0</td>\n",
       "      <td>229.0</td>\n",
       "      <td>Men</td>\n",
       "    </tr>\n",
       "    <tr>\n",
       "      <th>1417</th>\n",
       "      <td>Gun</td>\n",
       "      <td>Wojtek</td>\n",
       "      <td>21.7</td>\n",
       "      <td>8.3</td>\n",
       "      <td>1861.0</td>\n",
       "      <td>154.0</td>\n",
       "      <td>31.0</td>\n",
       "      <td>275.0</td>\n",
       "      <td>Men</td>\n",
       "    </tr>\n",
       "  </tbody>\n",
       "</table>\n",
       "<p>937 rows × 9 columns</p>\n",
       "</div>"
      ],
      "text/plain": [
       "     Weapon      Name  Rating  Accuracy(%)  Shot fired   Hits  Deaths  \\\n",
       "0                                                                       \n",
       "0     Rifle    Wojtek    70.8         20.1      3509.0  704.0    40.0   \n",
       "1     Rifle      Emil    55.8         15.8      4771.0  753.0    54.0   \n",
       "2     Rifle    Adrian    47.6         16.7      3526.0  589.0    59.0   \n",
       "3     Rifle     Kinga    47.5         15.2      3184.0  484.0    42.0   \n",
       "4       Gun  Wiktoria    24.7         10.3      3481.0  359.0    66.0   \n",
       "...     ...       ...     ...          ...         ...    ...     ...   \n",
       "1412  Rifle     Karol    38.2         15.3      1088.0  166.0    18.0   \n",
       "1414    Gun     Marta    33.4         15.3      1415.0  217.0    34.0   \n",
       "1415    Gun    Marcin    32.6         12.4      1377.0  171.0    21.0   \n",
       "1416    Gun      Seba    25.1          7.7      1957.0  150.0    25.0   \n",
       "1417    Gun    Wojtek    21.7          8.3      1861.0  154.0    31.0   \n",
       "\n",
       "      DMG_Get    Sex  \n",
       "0                     \n",
       "0       464.0    Men  \n",
       "1       591.0    Men  \n",
       "2       549.0    Men  \n",
       "3       442.0  Women  \n",
       "4       583.0  Women  \n",
       "...       ...    ...  \n",
       "1412    188.0    Men  \n",
       "1414    282.0  Women  \n",
       "1415    217.0    Men  \n",
       "1416    229.0    Men  \n",
       "1417    275.0    Men  \n",
       "\n",
       "[937 rows x 9 columns]"
      ]
     },
     "execution_count": 97,
     "metadata": {},
     "output_type": "execute_result"
    }
   ],
   "source": [
    "df"
   ]
  },
  {
   "cell_type": "code",
   "execution_count": 98,
   "id": "161c5dd6",
   "metadata": {
    "scrolled": false
   },
   "outputs": [
    {
     "data": {
      "text/html": [
       "<div>\n",
       "<style scoped>\n",
       "    .dataframe tbody tr th:only-of-type {\n",
       "        vertical-align: middle;\n",
       "    }\n",
       "\n",
       "    .dataframe tbody tr th {\n",
       "        vertical-align: top;\n",
       "    }\n",
       "\n",
       "    .dataframe thead th {\n",
       "        text-align: right;\n",
       "    }\n",
       "</style>\n",
       "<table border=\"1\" class=\"dataframe\">\n",
       "  <thead>\n",
       "    <tr style=\"text-align: right;\">\n",
       "      <th></th>\n",
       "      <th></th>\n",
       "      <th>Rating</th>\n",
       "      <th>Accuracy(%)</th>\n",
       "      <th>Shot fired</th>\n",
       "      <th>Hits</th>\n",
       "      <th>Deaths</th>\n",
       "      <th>DMG_Get</th>\n",
       "    </tr>\n",
       "    <tr>\n",
       "      <th>Weapon</th>\n",
       "      <th>Sex</th>\n",
       "      <th></th>\n",
       "      <th></th>\n",
       "      <th></th>\n",
       "      <th></th>\n",
       "      <th></th>\n",
       "      <th></th>\n",
       "    </tr>\n",
       "  </thead>\n",
       "  <tbody>\n",
       "    <tr>\n",
       "      <th rowspan=\"2\" valign=\"top\">Gun</th>\n",
       "      <th>Men</th>\n",
       "      <td>47.50</td>\n",
       "      <td>14.14</td>\n",
       "      <td>2196.75</td>\n",
       "      <td>305.62</td>\n",
       "      <td>36.95</td>\n",
       "      <td>345.35</td>\n",
       "    </tr>\n",
       "    <tr>\n",
       "      <th>Women</th>\n",
       "      <td>28.79</td>\n",
       "      <td>10.31</td>\n",
       "      <td>1750.01</td>\n",
       "      <td>181.50</td>\n",
       "      <td>31.21</td>\n",
       "      <td>295.83</td>\n",
       "    </tr>\n",
       "    <tr>\n",
       "      <th rowspan=\"2\" valign=\"top\">Rifle</th>\n",
       "      <th>Men</th>\n",
       "      <td>58.96</td>\n",
       "      <td>16.83</td>\n",
       "      <td>2196.78</td>\n",
       "      <td>360.01</td>\n",
       "      <td>36.27</td>\n",
       "      <td>333.47</td>\n",
       "    </tr>\n",
       "    <tr>\n",
       "      <th>Women</th>\n",
       "      <td>55.74</td>\n",
       "      <td>14.34</td>\n",
       "      <td>2061.13</td>\n",
       "      <td>265.38</td>\n",
       "      <td>35.20</td>\n",
       "      <td>302.58</td>\n",
       "    </tr>\n",
       "  </tbody>\n",
       "</table>\n",
       "</div>"
      ],
      "text/plain": [
       "              Rating  Accuracy(%)  Shot fired    Hits  Deaths  DMG_Get\n",
       "Weapon Sex                                                            \n",
       "Gun    Men     47.50        14.14     2196.75  305.62   36.95   345.35\n",
       "       Women   28.79        10.31     1750.01  181.50   31.21   295.83\n",
       "Rifle  Men     58.96        16.83     2196.78  360.01   36.27   333.47\n",
       "       Women   55.74        14.34     2061.13  265.38   35.20   302.58"
      ]
     },
     "execution_count": 98,
     "metadata": {},
     "output_type": "execute_result"
    }
   ],
   "source": [
    "df.groupby([\"Weapon\",\"Sex\"])[[\"Name\",\"Rating\",\"Accuracy(%)\",\"Shot fired\",\"Hits\",\"Deaths\",\"DMG_Get\"]].mean().round(2)"
   ]
  },
  {
   "cell_type": "code",
   "execution_count": 161,
   "id": "3779e47f",
   "metadata": {
    "scrolled": false
   },
   "outputs": [
    {
     "data": {
      "text/html": [
       "<div>\n",
       "<style scoped>\n",
       "    .dataframe tbody tr th:only-of-type {\n",
       "        vertical-align: middle;\n",
       "    }\n",
       "\n",
       "    .dataframe tbody tr th {\n",
       "        vertical-align: top;\n",
       "    }\n",
       "\n",
       "    .dataframe thead th {\n",
       "        text-align: right;\n",
       "    }\n",
       "</style>\n",
       "<table border=\"1\" class=\"dataframe\">\n",
       "  <thead>\n",
       "    <tr style=\"text-align: right;\">\n",
       "      <th></th>\n",
       "      <th></th>\n",
       "      <th>Rating</th>\n",
       "      <th>Accuracy(%)</th>\n",
       "      <th>Shot fired</th>\n",
       "      <th>Hits</th>\n",
       "      <th>Deaths</th>\n",
       "      <th>DMG_Get</th>\n",
       "    </tr>\n",
       "    <tr>\n",
       "      <th>Weapon</th>\n",
       "      <th>Sex</th>\n",
       "      <th></th>\n",
       "      <th></th>\n",
       "      <th></th>\n",
       "      <th></th>\n",
       "      <th></th>\n",
       "      <th></th>\n",
       "    </tr>\n",
       "  </thead>\n",
       "  <tbody>\n",
       "    <tr>\n",
       "      <th rowspan=\"2\" valign=\"top\">Gun</th>\n",
       "      <th>Men</th>\n",
       "      <td>47.50</td>\n",
       "      <td>14.14</td>\n",
       "      <td>2196.75</td>\n",
       "      <td>305.62</td>\n",
       "      <td>36.95</td>\n",
       "      <td>345.35</td>\n",
       "    </tr>\n",
       "    <tr>\n",
       "      <th>Women</th>\n",
       "      <td>28.79</td>\n",
       "      <td>10.31</td>\n",
       "      <td>1750.01</td>\n",
       "      <td>181.50</td>\n",
       "      <td>31.21</td>\n",
       "      <td>295.83</td>\n",
       "    </tr>\n",
       "    <tr>\n",
       "      <th rowspan=\"2\" valign=\"top\">Rifle</th>\n",
       "      <th>Men</th>\n",
       "      <td>58.96</td>\n",
       "      <td>16.83</td>\n",
       "      <td>2196.78</td>\n",
       "      <td>360.01</td>\n",
       "      <td>36.27</td>\n",
       "      <td>333.47</td>\n",
       "    </tr>\n",
       "    <tr>\n",
       "      <th>Women</th>\n",
       "      <td>55.74</td>\n",
       "      <td>14.34</td>\n",
       "      <td>2061.13</td>\n",
       "      <td>265.38</td>\n",
       "      <td>35.20</td>\n",
       "      <td>302.58</td>\n",
       "    </tr>\n",
       "  </tbody>\n",
       "</table>\n",
       "</div>"
      ],
      "text/plain": [
       "              Rating  Accuracy(%)  Shot fired    Hits  Deaths  DMG_Get\n",
       "Weapon Sex                                                            \n",
       "Gun    Men     47.50        14.14     2196.75  305.62   36.95   345.35\n",
       "       Women   28.79        10.31     1750.01  181.50   31.21   295.83\n",
       "Rifle  Men     58.96        16.83     2196.78  360.01   36.27   333.47\n",
       "       Women   55.74        14.34     2061.13  265.38   35.20   302.58"
      ]
     },
     "execution_count": 161,
     "metadata": {},
     "output_type": "execute_result"
    }
   ],
   "source": [
    "df.groupby([\"Weapon\",\"Sex\"])[[\"Rating\",\"Accuracy(%)\",\"Shot fired\",\"Hits\",\"Deaths\",\"DMG_Get\"]].mean().round(2)"
   ]
  },
  {
   "cell_type": "code",
   "execution_count": 160,
   "id": "c3811e43",
   "metadata": {
    "scrolled": true
   },
   "outputs": [
    {
     "data": {
      "text/html": [
       "<div>\n",
       "<style scoped>\n",
       "    .dataframe tbody tr th:only-of-type {\n",
       "        vertical-align: middle;\n",
       "    }\n",
       "\n",
       "    .dataframe tbody tr th {\n",
       "        vertical-align: top;\n",
       "    }\n",
       "\n",
       "    .dataframe thead th {\n",
       "        text-align: right;\n",
       "    }\n",
       "</style>\n",
       "<table border=\"1\" class=\"dataframe\">\n",
       "  <thead>\n",
       "    <tr style=\"text-align: right;\">\n",
       "      <th></th>\n",
       "      <th>Rating</th>\n",
       "      <th>Accuracy(%)</th>\n",
       "      <th>Shot fired</th>\n",
       "      <th>Hits</th>\n",
       "      <th>Deaths</th>\n",
       "      <th>DMG_Get</th>\n",
       "    </tr>\n",
       "    <tr>\n",
       "      <th>Weapon</th>\n",
       "      <th></th>\n",
       "      <th></th>\n",
       "      <th></th>\n",
       "      <th></th>\n",
       "      <th></th>\n",
       "      <th></th>\n",
       "    </tr>\n",
       "  </thead>\n",
       "  <tbody>\n",
       "    <tr>\n",
       "      <th>Gun</th>\n",
       "      <td>40.94</td>\n",
       "      <td>12.80</td>\n",
       "      <td>2040.04</td>\n",
       "      <td>262.08</td>\n",
       "      <td>34.93</td>\n",
       "      <td>327.98</td>\n",
       "    </tr>\n",
       "    <tr>\n",
       "      <th>Rifle</th>\n",
       "      <td>58.56</td>\n",
       "      <td>16.52</td>\n",
       "      <td>2180.01</td>\n",
       "      <td>348.31</td>\n",
       "      <td>36.14</td>\n",
       "      <td>329.65</td>\n",
       "    </tr>\n",
       "  </tbody>\n",
       "</table>\n",
       "</div>"
      ],
      "text/plain": [
       "        Rating  Accuracy(%)  Shot fired    Hits  Deaths  DMG_Get\n",
       "Weapon                                                          \n",
       "Gun      40.94        12.80     2040.04  262.08   34.93   327.98\n",
       "Rifle    58.56        16.52     2180.01  348.31   36.14   329.65"
      ]
     },
     "execution_count": 160,
     "metadata": {},
     "output_type": "execute_result"
    }
   ],
   "source": [
    "df.groupby([\"Weapon\"])[[\"Rating\",\"Accuracy(%)\",\"Shot fired\",\"Hits\",\"Deaths\",\"DMG_Get\"]].mean().round(2)"
   ]
  },
  {
   "cell_type": "code",
   "execution_count": 162,
   "id": "22b83510",
   "metadata": {},
   "outputs": [
    {
     "data": {
      "text/html": [
       "<div>\n",
       "<style scoped>\n",
       "    .dataframe tbody tr th:only-of-type {\n",
       "        vertical-align: middle;\n",
       "    }\n",
       "\n",
       "    .dataframe tbody tr th {\n",
       "        vertical-align: top;\n",
       "    }\n",
       "\n",
       "    .dataframe thead th {\n",
       "        text-align: right;\n",
       "    }\n",
       "</style>\n",
       "<table border=\"1\" class=\"dataframe\">\n",
       "  <thead>\n",
       "    <tr style=\"text-align: right;\">\n",
       "      <th></th>\n",
       "      <th>Rating</th>\n",
       "      <th>Accuracy(%)</th>\n",
       "      <th>Shot fired</th>\n",
       "      <th>Hits</th>\n",
       "      <th>Deaths</th>\n",
       "      <th>DMG_Get</th>\n",
       "    </tr>\n",
       "    <tr>\n",
       "      <th>Sex</th>\n",
       "      <th></th>\n",
       "      <th></th>\n",
       "      <th></th>\n",
       "      <th></th>\n",
       "      <th></th>\n",
       "      <th></th>\n",
       "    </tr>\n",
       "  </thead>\n",
       "  <tbody>\n",
       "    <tr>\n",
       "      <th>Men</th>\n",
       "      <td>52.79</td>\n",
       "      <td>15.38</td>\n",
       "      <td>2196.76</td>\n",
       "      <td>330.73</td>\n",
       "      <td>36.63</td>\n",
       "      <td>339.87</td>\n",
       "    </tr>\n",
       "    <tr>\n",
       "      <th>Women</th>\n",
       "      <td>33.72</td>\n",
       "      <td>11.05</td>\n",
       "      <td>1806.93</td>\n",
       "      <td>196.85</td>\n",
       "      <td>31.94</td>\n",
       "      <td>297.07</td>\n",
       "    </tr>\n",
       "  </tbody>\n",
       "</table>\n",
       "</div>"
      ],
      "text/plain": [
       "       Rating  Accuracy(%)  Shot fired    Hits  Deaths  DMG_Get\n",
       "Sex                                                            \n",
       "Men     52.79        15.38     2196.76  330.73   36.63   339.87\n",
       "Women   33.72        11.05     1806.93  196.85   31.94   297.07"
      ]
     },
     "execution_count": 162,
     "metadata": {},
     "output_type": "execute_result"
    }
   ],
   "source": [
    "df.groupby([\"Sex\"])[[\"Rating\",\"Accuracy(%)\",\"Shot fired\",\"Hits\",\"Deaths\",\"DMG_Get\"]].mean().round(2)"
   ]
  },
  {
   "cell_type": "code",
   "execution_count": null,
   "id": "45920343",
   "metadata": {},
   "outputs": [],
   "source": [
    "sns.regplot(x='value', y='wage', data=df_melt, ax=axs[1])"
   ]
  },
  {
   "cell_type": "code",
   "execution_count": 142,
   "id": "9ad6b5e3",
   "metadata": {},
   "outputs": [
    {
     "data": {
      "text/plain": [
       "[Text(0.5, 1.0, 'Rating na broni krótkiej')]"
      ]
     },
     "execution_count": 142,
     "metadata": {},
     "output_type": "execute_result"
    },
    {
     "data": {
      "image/png": "[encoded data removed]",
      "text/plain": [
       "<Figure size 864x360 with 2 Axes>"
      ]
     },
     "metadata": {
      "needs_background": "light"
     },
     "output_type": "display_data"
    }
   ],
   "source": [
    "fig, axs = plt.subplots(ncols=2,nrows = 1,figsize=(12,5))\n",
    "sns.barplot(x = [\"Men\",\"Women\"], y = [47.502419,28.794527], ax=axs[0],palette=\"viridis\").set(title='Rating na broni długiej')\n",
    "sns.barplot(x = [\"Men\",\"Women\"], y = [58.962382,55.737778], ax=axs[1],palette=\"viridis\").set(title='Rating na broni krótkiej')\n"
   ]
  },
  {
   "cell_type": "code",
   "execution_count": 149,
   "id": "02be956e",
   "metadata": {},
   "outputs": [
    {
     "data": {
      "text/plain": [
       "[Text(0.5, 1.0, 'Accuracy(%) na broni krótkiej')]"
      ]
     },
     "execution_count": 149,
     "metadata": {},
     "output_type": "execute_result"
    },
    {
     "data": {
      "image/png": "[encoded data removed]",
      "text/plain": [
       "<Figure size 864x360 with 2 Axes>"
      ]
     },
     "metadata": {
      "needs_background": "light"
     },
     "output_type": "display_data"
    }
   ],
   "source": [
    "fig, axs = plt.subplots(ncols=2,nrows = 1,figsize=(12,5))\n",
    "sns.barplot(x = [\"Men\",\"Women\"], y = [14.14,10.31], ax=axs[0],palette=\"rocket\").set(title='Accuracy(%) na broni długiej')\n",
    "sns.barplot(x = [\"Men\",\"Women\"], y = [16.83,14.34], ax=axs[1],palette=\"rocket\").set(title='Accuracy(%) na broni krótkiej')\n"
   ]
  },
  {
   "cell_type": "code",
   "execution_count": 156,
   "id": "a41ee6a2",
   "metadata": {},
   "outputs": [
    {
     "data": {
      "text/plain": [
       "[Text(0.5, 1.0, 'Śmierci')]"
      ]
     },
     "execution_count": 156,
     "metadata": {},
     "output_type": "execute_result"
    },
    {
     "data": {
      "image/png": "[encoded data removed]",
      "text/plain": [
       "<Figure size 864x360 with 2 Axes>"
      ]
     },
     "metadata": {
      "needs_background": "light"
     },
     "output_type": "display_data"
    }
   ],
   "source": [
    "fig, axs = plt.subplots(ncols=2,nrows = 1,figsize=(12,5))\n",
    "sns.barplot(x = [\"Men\",\"Women\"], y = [36.95,31.21], ax=axs[0],palette='winter').set(title='Śmierci')\n",
    "sns.barplot(x = [\"Men\",\"Women\"], y = [36.27,35.20], ax=axs[1],palette='winter').set(title='Śmierci')\n"
   ]
  },
  {
   "cell_type": "code",
   "execution_count": null,
   "id": "3266ab72",
   "metadata": {},
   "outputs": [],
   "source": []
  }
 ],
 "metadata": {
  "kernelspec": {
   "display_name": "Python 3 (ipykernel)",
   "language": "python",
   "name": "python3"
  },
  "language_info": {
   "codemirror_mode": {
    "name": "ipython",
    "version": 3
   },
   "file_extension": ".py",
   "mimetype": "text/x-python",
   "name": "python",
   "nbconvert_exporter": "python",
   "pygments_lexer": "ipython3",
   "version": "3.9.5"
  }
 },
 "nbformat": 4,
 "nbformat_minor": 5
}
